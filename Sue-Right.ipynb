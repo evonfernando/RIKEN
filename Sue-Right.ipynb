{
 "metadata": {
  "name": "Sue-Right"
 }, 
 "nbformat": 2, 
 "worksheets": [
  {
   "cells": [
    {
     "cell_type": "code", 
     "collapsed": false, 
     "input": [
      "cd /data/alstottj/RIKEN/Original/Toru/"
     ], 
     "language": "python", 
     "outputs": [
      {
       "output_type": "stream", 
       "stream": "stdout", 
       "text": [
        "/spin1/users/alstottj/RIKEN/Original/Toru"
       ]
      }
     ], 
     "prompt_number": 1
    }, 
    {
     "cell_type": "code", 
     "collapsed": true, 
     "input": [
      "from RIKEN import importing", 
      "from matplotlib.backends.backend_pdf import PdfPages", 
      "from avalanchetoolbox import avalanches, preprocessing", 
      "import powerlaw", 
      "from time import clock"
     ], 
     "language": "python", 
     "outputs": [], 
     "prompt_number": 2
    }, 
    {
     "cell_type": "code", 
     "collapsed": true, 
     "input": [
      "monkey_name = 'Sue'", 
      "monkey_data = monkey_name+'/20110921-RightHemi/'", 
      "session = 7", 
      "#plots = PdfPages(monkey_name+'_'+str(session)+'.pdf')", 
      "sampling_rate=1000.0"
     ], 
     "language": "python", 
     "outputs": [], 
     "prompt_number": 3
    }, 
    {
     "cell_type": "code", 
     "collapsed": false, 
     "input": [
      "data = importing.mat(monkey_data, session)"
     ], 
     "language": "python", 
     "outputs": [
      {
       "output_type": "stream", 
       "stream": "stdout", 
       "text": [
        "Unsupported data format"
       ]
      }
     ], 
     "prompt_number": 4
    }, 
    {
     "cell_type": "code", 
     "collapsed": false, 
     "input": [
      "plot(data[0,:1000])", 
      "title('One Second of Data, Raw')"
     ], 
     "language": "python", 
     "outputs": [
      {
       "ename": "TypeError", 
       "evalue": "'NoneType' object is not subscriptable", 
       "output_type": "pyerr", 
       "traceback": [
        "<span class=\"ansired\">---------------------------------------------------------------------------</span>\n<span class=\"ansired\">TypeError</span>                                 Traceback (most recent call last)", 
        "<span class=\"ansigreen\">/spin1/users/alstottj/RIKEN/Original/Toru/&lt;ipython-input-5-804ae1e97637&gt;</span> in <span class=\"ansicyan\">&lt;module&gt;</span><span class=\"ansiblue\">()</span>\n<span class=\"ansigreen\">----&gt; 1</span><span class=\"ansiyellow\"> </span>plot<span class=\"ansiyellow\">(</span>data<span class=\"ansiyellow\">[</span><span class=\"ansicyan\">0</span><span class=\"ansiyellow\">,</span><span class=\"ansiyellow\">:</span><span class=\"ansicyan\">1000</span><span class=\"ansiyellow\">]</span><span class=\"ansiyellow\">)</span><span class=\"ansiyellow\"></span>\n<span class=\"ansigreen\">      2</span> title<span class=\"ansiyellow\">(</span><span class=\"ansiblue\">&apos;One Second of Data, Raw&apos;</span><span class=\"ansiyellow\">)</span><span class=\"ansiyellow\"></span>\n", 
        "<span class=\"ansired\">TypeError</span>: &apos;NoneType&apos; object is not subscriptable"
       ]
      }
     ], 
     "prompt_number": 5
    }, 
    {
     "cell_type": "code", 
     "collapsed": false, 
     "input": [
      "print(\"Recording duration: %.1f minutes\"%((data.shape[1]/sampling_rate)/60))"
     ], 
     "language": "python", 
     "outputs": [], 
     "prompt_number": "&nbsp;"
    }, 
    {
     "cell_type": "code", 
     "collapsed": true, 
     "input": [
      "data = preprocessing.band_filter(data, 'broad', sampling_rate=sampling_rate, taps=25.0, downsample=False)[0]"
     ], 
     "language": "python", 
     "outputs": [], 
     "prompt_number": "&nbsp;"
    }, 
    {
     "cell_type": "code", 
     "collapsed": false, 
     "input": [
      "plot(data[0,:1000])", 
      "title('One Second of Data, Rereferenced and Filtered')"
     ], 
     "language": "python", 
     "outputs": [], 
     "prompt_number": "&nbsp;"
    }, 
    {
     "cell_type": "code", 
     "collapsed": true, 
     "input": [
      "plot(data[0,:10000])", 
      "title('100 Seconds of Data, Rereferenced and Filtered')"
     ], 
     "language": "python", 
     "outputs": [], 
     "prompt_number": "&nbsp;"
    }, 
    {
     "cell_type": "code", 
     "collapsed": true, 
     "input": [
      "plot(data[1,:1000])", 
      "title('One Second of Data, Different Sensor')"
     ], 
     "language": "python", 
     "outputs": [], 
     "prompt_number": "&nbsp;"
    }, 
    {
     "cell_type": "code", 
     "collapsed": false, 
     "input": [
      "plot(data[1,:100000])", 
      "title('100 Seconds of Data, Different Sensor')"
     ], 
     "language": "python", 
     "outputs": [], 
     "prompt_number": "&nbsp;"
    }, 
    {
     "cell_type": "code", 
     "collapsed": false, 
     "input": [
      "n_channels = data.shape[0]", 
      "for i in range(n_channels):", 
      "    pyplot.psd(data[i], Fs=sampling_rate)"
     ], 
     "language": "python", 
     "outputs": [], 
     "prompt_number": "&nbsp;"
    }, 
    {
     "cell_type": "code", 
     "collapsed": true, 
     "input": [
      "analysis = avalanches.Analysis(data, threshold_mode='Likelihood', threshold_level=2)"
     ], 
     "language": "python", 
     "outputs": [], 
     "prompt_number": "&nbsp;"
    }, 
    {
     "cell_type": "code", 
     "collapsed": false, 
     "input": [
      "tic = clock()", 
      "analysis.size_events", 
      "print clock()-tic"
     ], 
     "language": "python", 
     "outputs": [], 
     "prompt_number": "&nbsp;"
    }, 
    {
     "cell_type": "code", 
     "collapsed": false, 
     "input": [
      "powerlaw.plot_pdf(analysis.size_events, xmax=analysis.n_channels)"
     ], 
     "language": "python", 
     "outputs": [], 
     "prompt_number": "&nbsp;"
    }, 
    {
     "cell_type": "code", 
     "collapsed": false, 
     "input": [
      "analysis.size_events_fit.loglikelihood_ratio('power_law', 'exponential')"
     ], 
     "language": "python", 
     "outputs": [], 
     "prompt_number": "&nbsp;"
    }, 
    {
     "cell_type": "code", 
     "collapsed": false, 
     "input": [
      "analysis.size_events_fit.power_law.alpha"
     ], 
     "language": "python", 
     "outputs": [], 
     "prompt_number": "&nbsp;"
    }, 
    {
     "cell_type": "code", 
     "collapsed": false, 
     "input": [
      "analysis.size_events_fit.loglikelihood_ratio('truncated_power_law', 'lognormal')"
     ], 
     "language": "python", 
     "outputs": [], 
     "prompt_number": "&nbsp;"
    }, 
    {
     "cell_type": "code", 
     "collapsed": false, 
     "input": [
      "analysis.size_events_fit.truncated_power_law.alpha"
     ], 
     "language": "python", 
     "outputs": [], 
     "prompt_number": "&nbsp;"
    }, 
    {
     "cell_type": "code", 
     "collapsed": false, 
     "input": [
      "mean(analysis.sigma_events)"
     ], 
     "language": "python", 
     "outputs": [], 
     "prompt_number": "&nbsp;"
    }, 
    {
     "cell_type": "code", 
     "collapsed": true, 
     "input": [], 
     "language": "python", 
     "outputs": [], 
     "prompt_number": "&nbsp;"
    }
   ]
  }
 ]
}