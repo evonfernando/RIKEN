{
 "metadata": {
  "name": "RIKEN"
 }, 
 "nbformat": 2, 
 "worksheets": [
  {
   "cells": [
    {
     "cell_type": "code", 
     "collapsed": true, 
     "input": [
      "import h5py", 
      "f = h5py.File('/data/alstottj/RIKEN/Data/Monkey_K2.hdf5')", 
      "df = f['rest/filter_FIR_512_hamming_ds-1000.0/broad/displacement'][:,:]", 
      "import avalanchetoolbox", 
      "analysis = avalanchetoolbox.avalanches.Analysis(df, threshold_level = 5, threshold_direction = 'both', threshold_mode = 'Likelihood', time_scale='optimal', event_detection='local_extrema')"
     ], 
     "language": "python", 
     "outputs": [], 
     "prompt_number": 13
    }, 
    {
     "cell_type": "code", 
     "collapsed": false, 
     "input": [
      "analysis.size_events_fit.loglikelihood_ratio('truncated_power_law', 'gamma')"
     ], 
     "language": "python", 
     "outputs": [
      {
       "output_type": "stream", 
       "stream": "stdout", 
       "text": [
        "Finding events", 
        "Calculating thresholds"
       ]
      }, 
      {
       "output_type": "pyout", 
       "prompt_number": 14, 
       "text": [
        "(-532.24557790998347, 9.7114951566735575e-175)"
       ]
      }
     ], 
     "prompt_number": 14
    }, 
    {
     "cell_type": "code", 
     "collapsed": false, 
     "input": [
      "analysis.size_events_fit.loglikelihood_ratio('power_law', 'gamma')"
     ], 
     "language": "python", 
     "outputs": [
      {
       "output_type": "pyout", 
       "prompt_number": 15, 
       "text": [
        "(-555.05247247793591, 1.8113612643363293e-108)"
       ]
      }
     ], 
     "prompt_number": 15
    }, 
    {
     "cell_type": "code", 
     "collapsed": false, 
     "input": [
      "analysis.size_events_fit.truncated_power_law.parameters"
     ], 
     "language": "python", 
     "outputs": [
      {
       "output_type": "pyout", 
       "prompt_number": 16, 
       "text": [
        "array([ 1.36603322,  0.01343968])"
       ]
      }
     ], 
     "prompt_number": 16
    }, 
    {
     "cell_type": "code", 
     "collapsed": false, 
     "input": [
      "analysis.size_events_fit.gamma.parameters"
     ], 
     "language": "python", 
     "outputs": [
      {
       "output_type": "pyout", 
       "prompt_number": 17, 
       "text": [
        "array([  1.07367785e-08,   1.84974737e+01])"
       ]
      }
     ], 
     "prompt_number": 17
    }, 
    {
     "cell_type": "code", 
     "collapsed": false, 
     "input": [
      "1/analysis.size_events_fit.gamma.theta"
     ], 
     "language": "python", 
     "outputs": [
      {
       "output_type": "pyout", 
       "prompt_number": 18, 
       "text": [
        "0.054061436603164204"
       ]
      }
     ], 
     "prompt_number": 18
    }, 
    {
     "cell_type": "code", 
     "collapsed": false, 
     "input": [
      "import powerlaw", 
      "xmax = analysis.n_channels", 
      "x = arange(1,xmax)", 
      "y_gamma = powerlaw.gamma_likelihoods(x, analysis.size_events_fit.gamma.parameters[0], analysis.size_events_fit.gamma.parameters[1], discrete=True, xmin=1, xmax = xmax)", 
      "y_tpl = powerlaw.truncated_power_law_likelihoods(x, analysis.size_events_fit.truncated_power_law.parameters[0], analysis.size_events_fit.truncated_power_law.parameters[1], discrete=True, xmin=1, xmax = xmax)", 
      "y_pl = powerlaw.power_law_likelihoods(x, analysis.size_events_fit.power_law.parameters[0], discrete=True, xmin=1, xmax = xmax)", 
      "y_lognormal = powerlaw.lognormal_likelihoods(x, analysis.size_events_fit.lognormal.parameters[0], analysis.size_events_fit.lognormal.parameters[1], discrete=True, xmin=1, xmax = xmax)", 
      "fig, ax = subplots()", 
      "i, j = powerlaw.plot_pdf(analysis.size_events, xmin=1, xmax=xmax, show=False, linear_bins=False)", 
      "plot(x,y_gamma, 'r-')", 
      "plot(x,y_tpl, 'g--')", 
      "#plot(x,y_lognormal, 'b-')", 
      "plot(x,y_pl, 'k-')"
     ], 
     "language": "python", 
     "outputs": [
      {
       "output_type": "pyout", 
       "prompt_number": 21, 
       "text": [
        "[&lt;matplotlib.lines.Line2D at 0x604e790&gt;]"
       ]
      }, 
      {
       "output_type": "display_data", 
       "png": "[encoded data removed]"
      }
     ], 
     "prompt_number": 21
    }, 
    {
     "cell_type": "code", 
     "collapsed": false, 
     "input": [
      "xmax"
     ], 
     "language": "python", 
     "outputs": [
      {
       "output_type": "pyout", 
       "prompt_number": 20, 
       "text": [
        "122"
       ]
      }
     ], 
     "prompt_number": 20
    }, 
    {
     "cell_type": "code", 
     "collapsed": true, 
     "input": [], 
     "language": "python", 
     "outputs": [], 
     "prompt_number": 20
    }
   ]
  }
 ]
}